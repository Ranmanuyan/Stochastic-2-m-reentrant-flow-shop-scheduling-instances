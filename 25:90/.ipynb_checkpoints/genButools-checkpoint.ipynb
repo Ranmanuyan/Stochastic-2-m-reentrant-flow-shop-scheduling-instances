{
 "cells": [
  {
   "cell_type": "code",
   "execution_count": 2,
   "metadata": {},
   "outputs": [
    {
     "name": "stdout",
     "output_type": "stream",
     "text": [
      "Butools V2.0\n",
      "Packages loaded: utils, mc, moments, reptrans, trace, ph, dph, map, dmap, fitting, mam, queues\n",
      "Global variables: \n",
      "butools.verbose = False , butools.checkInput = True , butools.checkPrecision = 1e-12\n",
      "mean_list 100\n",
      "len(orderList) 200\n",
      "len(zeroList) 200\n"
     ]
    },
    {
     "ename": "IndexError",
     "evalue": "list index out of range",
     "output_type": "error",
     "traceback": [
      "\u001b[0;31m---------------------------------------------------------------------------\u001b[0m",
      "\u001b[0;31mIndexError\u001b[0m                                Traceback (most recent call last)",
      "\u001b[0;32m<ipython-input-2-0204e1e5d1eb>\u001b[0m in \u001b[0;36m<module>\u001b[0;34m\u001b[0m\n\u001b[1;32m     38\u001b[0m \u001b[0;32mwith\u001b[0m \u001b[0mopen\u001b[0m\u001b[0;34m(\u001b[0m\u001b[0;34m'new.txt'\u001b[0m\u001b[0;34m,\u001b[0m \u001b[0;34m'w'\u001b[0m\u001b[0;34m)\u001b[0m \u001b[0;32mas\u001b[0m \u001b[0mf\u001b[0m\u001b[0;34m:\u001b[0m\u001b[0;34m\u001b[0m\u001b[0;34m\u001b[0m\u001b[0m\n\u001b[1;32m     39\u001b[0m     \u001b[0;32mfor\u001b[0m \u001b[0mx\u001b[0m \u001b[0;32min\u001b[0m \u001b[0mrange\u001b[0m\u001b[0;34m(\u001b[0m\u001b[0mnum_job\u001b[0m\u001b[0;34m*\u001b[0m\u001b[0;36m2\u001b[0m\u001b[0;34m)\u001b[0m\u001b[0;34m:\u001b[0m\u001b[0;34m\u001b[0m\u001b[0;34m\u001b[0m\u001b[0m\n\u001b[0;32m---> 40\u001b[0;31m         \u001b[0ma\u001b[0m\u001b[0;34m,\u001b[0m \u001b[0mA\u001b[0m \u001b[0;34m=\u001b[0m \u001b[0mRandomPH\u001b[0m\u001b[0;34m(\u001b[0m\u001b[0morder\u001b[0m\u001b[0;34m=\u001b[0m\u001b[0morderList\u001b[0m\u001b[0;34m[\u001b[0m\u001b[0mx\u001b[0m\u001b[0;34m]\u001b[0m\u001b[0;34m,\u001b[0m \u001b[0mmean\u001b[0m\u001b[0;34m=\u001b[0m \u001b[0mmean_list\u001b[0m\u001b[0;34m[\u001b[0m\u001b[0mx\u001b[0m\u001b[0;34m]\u001b[0m\u001b[0;34m,\u001b[0m \u001b[0mzeroEntries\u001b[0m\u001b[0;34m=\u001b[0m\u001b[0mzeroList\u001b[0m\u001b[0;34m[\u001b[0m\u001b[0mx\u001b[0m\u001b[0;34m]\u001b[0m\u001b[0;34m)\u001b[0m\u001b[0;34m\u001b[0m\u001b[0;34m\u001b[0m\u001b[0m\n\u001b[0m\u001b[1;32m     41\u001b[0m         \u001b[0;32mif\u001b[0m\u001b[0;34m(\u001b[0m\u001b[0ma\u001b[0m\u001b[0;34m[\u001b[0m\u001b[0;36m0\u001b[0m\u001b[0;34m,\u001b[0m\u001b[0;36m0\u001b[0m\u001b[0;34m]\u001b[0m\u001b[0;34m==\u001b[0m\u001b[0;36m1\u001b[0m\u001b[0;34m)\u001b[0m\u001b[0;34m:\u001b[0m\u001b[0;34m\u001b[0m\u001b[0;34m\u001b[0m\u001b[0m\n\u001b[1;32m     42\u001b[0m             \u001b[0mmat\u001b[0m \u001b[0;34m=\u001b[0m\u001b[0;34m[\u001b[0m\u001b[0;34m]\u001b[0m\u001b[0;34m\u001b[0m\u001b[0;34m\u001b[0m\u001b[0m\n",
      "\u001b[0;31mIndexError\u001b[0m: list index out of range"
     ]
    }
   ],
   "source": [
    "%precision %g\n",
    "%run \"/Users/liulei/Downloads/butools2/Python/BuToolsInit\"\n",
    "import math\n",
    "import pandas as pd\n",
    "import random \n",
    "\n",
    "def readData():\n",
    "    df = pd.read_excel(\"MeanTaillard.xlsx\", names=None, header = None, sheet_name='Sheet1')\n",
    "    mean_list =[]\n",
    "    print(\"rows\",df.shape[0])\n",
    "    for row in range(df.shape[0]): #rows\n",
    "        mean_list.append(df.loc[row][0])\n",
    "        mean_list.append(df.loc[row][1])\n",
    "    print(\"mean_list\", len(mean_list))\n",
    "    return mean_list\n",
    "\n",
    "def order(num_job):\n",
    "    my_list = [1] * 150 + [2] * 30 + [4] * 20\n",
    "    orderList=[]\n",
    "    for x in range(num_job*2):\n",
    "        orderList.append(random.choice(my_list))\n",
    "    zeroList = []\n",
    "    for x in range(len(orderList)):\n",
    "        if(orderList[x]==1):\n",
    "            zeroList.append(0)\n",
    "        elif(orderList[x]==2):\n",
    "            zeroList.append(2)\n",
    "        else:\n",
    "            zeroList.append(12)\n",
    "    print(\"len(orderList)\",len(orderList))\n",
    "    print(\"len(zeroList)\",len(zeroList))\n",
    "    return orderList,zeroList\n",
    "\n",
    "    \n",
    "num_job = 100\n",
    "mean_list = readData()\n",
    "orderList,zeroList = order(num_job)\n",
    "\n",
    "with open('new.txt', 'w') as f:\n",
    "    for x in range(num_job*2):\n",
    "        a, A = RandomPH(order=orderList[x], mean= mean_list[x], zeroEntries=zeroList[x])\n",
    "        if(a[0,0]==1):\n",
    "            mat =[]\n",
    "            for i in range(len(A)):\n",
    "                for j in range(len(A)):\n",
    "                    mat.append(round((A[i,j]),3))\n",
    "            for line in mat:\n",
    "                f.write(str(line))\n",
    "                f.write('\\t')\n",
    "            f.write('\\n')"
   ]
  },
  {
   "cell_type": "code",
   "execution_count": null,
   "metadata": {},
   "outputs": [],
   "source": []
  }
 ],
 "metadata": {
  "kernelspec": {
   "display_name": "Python 3",
   "language": "python",
   "name": "python3"
  },
  "language_info": {
   "codemirror_mode": {
    "name": "ipython",
    "version": 3
   },
   "file_extension": ".py",
   "mimetype": "text/x-python",
   "name": "python",
   "nbconvert_exporter": "python",
   "pygments_lexer": "ipython3",
   "version": "3.7.4"
  }
 },
 "nbformat": 4,
 "nbformat_minor": 2
}
