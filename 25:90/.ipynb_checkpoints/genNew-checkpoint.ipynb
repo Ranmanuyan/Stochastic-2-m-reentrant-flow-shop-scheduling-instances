{
 "cells": [
  {
   "cell_type": "code",
   "execution_count": null,
   "metadata": {},
   "outputs": [],
   "source": [
    "%precision %g\n",
    "%run \"/Users/liulei/Downloads/butools2/Python/BuToolsInit\"\n",
    "import math\n",
    "import pandas as pd\n",
    "import matplotlib.pyplot as plt\n",
    "\n",
    "\n",
    "df1 = pd.read_excel(\"./data.xlsx\", names=None, header = None)\n",
    "mean=[]\n",
    "for count in range(df1.shape[0]):\n",
    "    T = df1.loc[count].dropna().values.tolist()\n",
    "    d = int(math.sqrt(len(T)))\n",
    "\n",
    "    A1=[]\n",
    "    A1.append(1)\n",
    "    for j in range(1,d):\n",
    "        A1.append(0)\n",
    "    a = ml.matrix([A1])\n",
    "\n",
    "    F =[]\n",
    "    for i in range(d):\n",
    "        T1=[]\n",
    "        for j in range(d):\n",
    "            T1.append(T[i*d+j])\n",
    "        F.append(T1)\n",
    "\n",
    "\n",
    "    A = ml.matrix(F)\n",
    "    moms = MomentsFromPH(a, A, 1)\n",
    "    mean.append(moms[0])\n",
    "    \n",
    "#     x = np.arange(0.0,100.002,1)\n",
    "#     if(count%2 == 0):\n",
    "#         pdf = PdfFromPH(a, A, x)\n",
    "#         cdf = CdfFromPH(a, A, x)\n",
    "for i in mean:\n",
    "    print(round(i,0))"
   ]
  },
  {
   "cell_type": "code",
   "execution_count": null,
   "metadata": {},
   "outputs": [],
   "source": [
    "%precision %g\n",
    "%run \"/Users/liulei/Downloads/butools2/Python/BuToolsInit\"\n",
    "# 2/2\n",
    "# 4/12\n",
    "a, A = RandomPH(order=4, mean=42, zeroEntries=12)\n",
    "print(a)\n",
    "print(A)\n",
    "\n",
    "# mat =[]\n",
    "# for i in range(len(A)):\n",
    "#     for j in range(len(A)):\n",
    "#         mat.append(round((A[i,j]),3))\n",
    "\n",
    "# print(mat)"
   ]
  }
 ],
 "metadata": {
  "kernelspec": {
   "display_name": "Python 3",
   "language": "python",
   "name": "python3"
  },
  "language_info": {
   "codemirror_mode": {
    "name": "ipython",
    "version": 3
   },
   "file_extension": ".py",
   "mimetype": "text/x-python",
   "name": "python",
   "nbconvert_exporter": "python",
   "pygments_lexer": "ipython3",
   "version": "3.7.4"
  }
 },
 "nbformat": 4,
 "nbformat_minor": 2
}
